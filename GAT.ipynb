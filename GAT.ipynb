{
 "cells": [
  {
   "cell_type": "code",
   "execution_count": 11,
   "id": "097955c6",
   "metadata": {},
   "outputs": [],
   "source": [
    "from tools import *\n",
    "import os\n",
    "import torch\n",
    "from torch_geometric.data import Data\n",
    "from torch_geometric.loader import DataLoader\n",
    "import torch\n",
    "import torch.nn.functional as F\n",
    "from torch_geometric.nn import GATConv\n",
    "from torch_geometric.loader import DataLoader\n",
    "from sklearn.metrics import accuracy_score\n",
    "import torch.nn.functional as F\n",
    "from tqdm import tqdm  "
   ]
  },
  {
   "cell_type": "code",
   "execution_count": 12,
   "id": "711992c4",
   "metadata": {},
   "outputs": [
    {
     "name": "stdout",
     "output_type": "stream",
     "text": [
      "finished data preparting & loading\n"
     ]
    }
   ],
   "source": [
    "graph_json_dir = \"graphes_JSON_Complet\"  \n",
    "graph_json_files = [graph_json_dir+\"/\"+f for f in os.listdir(graph_json_dir) if f.endswith('.json')]\n",
    "\n",
    "all_graphs = []\n",
    "\n",
    "for path in graph_json_files:\n",
    "    node_features_df=extract_node_features_from_json_file(path)\n",
    "    edges_df=extract_mapped_edges_from_json(path)\n",
    "    target_df=extract_optimal_repartition_from_json(path)\n",
    "\n",
    "    node_features_tensor, edge_index_tensor, y_target_tensor = prepare_data_for_GNN(node_features_df, edges_df, target_df)\n",
    "    data = Data(x=node_features_tensor, edge_index=edge_index_tensor, y=y_target_tensor)\n",
    "\n",
    "    all_graphs.append(data)\n",
    "\n",
    "\n",
    "print(\"finished data preparting & loading\")"
   ]
  },
  {
   "cell_type": "code",
   "execution_count": 34,
   "id": "1e80bea7",
   "metadata": {},
   "outputs": [
    {
     "name": "stdout",
     "output_type": "stream",
     "text": [
      "Selected 56/4998 graphs with  2  classes\n"
     ]
    }
   ],
   "source": [
    "N=2\n",
    "filtered_graphs = []\n",
    "graphe=all_graphs\n",
    "for graph in graphe:\n",
    "    num_classes = len(torch.unique(graph.y))  \n",
    "    \n",
    "    if graph.x[0][7] == N:\n",
    "        # selected_indices = [0, 1, 2, 6]\n",
    "        # graph.x = graph.x[:, selected_indices]\n",
    "        filtered_graphs.append(graph)\n",
    "        \n",
    "print(f\"Selected {len(filtered_graphs)}/{len(all_graphs)} graphs with \",N, \" classes\")"
   ]
  },
  {
   "cell_type": "code",
   "execution_count": 35,
   "id": "23404208",
   "metadata": {},
   "outputs": [],
   "source": [
    "from torch.utils.data import random_split\n",
    "\n",
    "total_graphs = len(filtered_graphs)\n",
    "train_size = int(0.8 * total_graphs)\n",
    "val_size = int(0.1 * total_graphs)\n",
    "test_size = total_graphs - train_size - val_size\n",
    "\n",
    "train_data, val_data, test_data = random_split(filtered_graphs, [train_size, val_size, test_size])\n",
    "\n",
    "train_loader = DataLoader(train_data, batch_size=8, shuffle=True)\n",
    "val_loader = DataLoader(val_data, batch_size=8)\n",
    "test_loader = DataLoader(test_data, batch_size=8)"
   ]
  },
  {
   "cell_type": "code",
   "execution_count": 36,
   "id": "36876ff6",
   "metadata": {},
   "outputs": [
    {
     "data": {
      "text/plain": [
       "tensor([1.0000, 4.0000, 2.0000, 2.0800, 3.2900, 0.4125, 0.4146, 2.0000])"
      ]
     },
     "execution_count": 36,
     "metadata": {},
     "output_type": "execute_result"
    }
   ],
   "source": [
    "train_data[0].x[0]"
   ]
  },
  {
   "cell_type": "code",
   "execution_count": null,
   "id": "cb83ad68",
   "metadata": {},
   "outputs": [],
   "source": [
    "import torch\n",
    "import torch.nn.functional as F\n",
    "from torch_geometric.nn import GATConv\n",
    "from torch_geometric.data import DataLoader\n",
    "\n",
    "# Define the GAT model\n",
    "class GAT(torch.nn.Module):\n",
    "    def __init__(self, in_channels, hidden_channels, out_channels, heads=1, dropout=0.6):\n",
    "        super().__init__()\n",
    "        self.gat1 = GATConv(in_channels, hidden_channels, heads=heads, dropout=dropout)\n",
    "        self.gat2 = GATConv(hidden_channels * heads, out_channels, heads=1, concat=True, dropout=dropout)\n",
    "        self.dropout = dropout\n",
    "\n",
    "    def forward(self, data):\n",
    "        x, edge_index = data.x, data.edge_index\n",
    "        x = F.dropout(x, p=self.dropout, training=self.training)\n",
    "        x = F.elu(self.gat1(x, edge_index))\n",
    "        x = F.dropout(x, p=self.dropout, training=self.training)\n",
    "        x = self.gat2(x, edge_index)\n",
    "        return x\n",
    "\n",
    "\n",
    "def train(model, loader, optimizer, device):\n",
    "    model.train()\n",
    "    total_loss = 0\n",
    "    total_correct = 0\n",
    "    total_samples = 0\n",
    "\n",
    "    for data in loader:\n",
    "        data = data.to(device)\n",
    "        optimizer.zero_grad()\n",
    "        out = model(data)\n",
    "        loss = F.cross_entropy(out, data.y)\n",
    "        loss.backward()\n",
    "        optimizer.step()\n",
    "\n",
    "        total_loss += loss.item()\n",
    "        total_correct += (out.argmax(dim=1) == data.y).sum().item()\n",
    "        total_samples += data.y.size(0)\n",
    "\n",
    "    return total_loss / len(loader), total_correct / total_samples\n",
    "\n",
    "# Evaluation function\n",
    "def evaluate(model, loader, device):\n",
    "    model.eval()\n",
    "    correct = 0\n",
    "    total = 0\n",
    "\n",
    "    with torch.no_grad():\n",
    "        for data in loader:\n",
    "            data = data.to(device)\n",
    "            out = model(data)\n",
    "            pred = out.argmax(dim=1)\n",
    "            correct += (pred == data.y).sum().item()\n",
    "            total += data.y.size(0)\n",
    "\n",
    "    return correct / total\n"
   ]
  },
  {
   "cell_type": "code",
   "execution_count": 38,
   "id": "c49a2c06",
   "metadata": {},
   "outputs": [
    {
     "name": "stdout",
     "output_type": "stream",
     "text": [
      "Epoch 001 | Loss: 1.5696 | Train Acc: 0.4861 | Val Acc: 0.6667\n",
      "Epoch 010 | Loss: 0.8851 | Train Acc: 0.5139 | Val Acc: 0.6667\n",
      "Epoch 020 | Loss: 0.8775 | Train Acc: 0.5206 | Val Acc: 0.3333\n",
      "Epoch 030 | Loss: 0.8555 | Train Acc: 0.5177 | Val Acc: 0.6667\n",
      "Epoch 040 | Loss: 0.7379 | Train Acc: 0.5120 | Val Acc: 0.6667\n",
      "Epoch 050 | Loss: 0.8096 | Train Acc: 0.5139 | Val Acc: 0.6667\n",
      "Epoch 060 | Loss: 0.7761 | Train Acc: 0.5475 | Val Acc: 0.6667\n",
      "Epoch 070 | Loss: 0.7775 | Train Acc: 0.5216 | Val Acc: 0.6667\n",
      "Epoch 080 | Loss: 0.7850 | Train Acc: 0.5264 | Val Acc: 0.6667\n",
      "Epoch 090 | Loss: 0.8473 | Train Acc: 0.5187 | Val Acc: 0.6667\n",
      "Epoch 100 | Loss: 0.9089 | Train Acc: 0.5235 | Val Acc: 0.6667\n"
     ]
    }
   ],
   "source": [
    "#  Example usage\n",
    "device = torch.device('cuda' if torch.cuda.is_available() else 'cpu')\n",
    "model = GAT(in_channels=8, hidden_channels=64, out_channels=N, heads=8).to(device)  # Adapt dimensions\n",
    "optimizer = torch.optim.Adam(model.parameters(), lr=0.005, weight_decay=5e-4)\n",
    "\n",
    "# Assuming you have train_loader and val_loader already defined\n",
    "for epoch in range(1, 101):\n",
    "    loss, acc = train(model, train_loader, optimizer, device)\n",
    "    val_acc = evaluate(model, val_loader, device)\n",
    "\n",
    "    if epoch % 10 == 0 or epoch == 1:\n",
    "        print(f\"Epoch {epoch:03d} | Loss: {loss:.4f} | Train Acc: {acc:.4f} | Val Acc: {val_acc:.4f}\")\n"
   ]
  }
 ],
 "metadata": {
  "kernelspec": {
   "display_name": "Python 3",
   "language": "python",
   "name": "python3"
  },
  "language_info": {
   "codemirror_mode": {
    "name": "ipython",
    "version": 3
   },
   "file_extension": ".py",
   "mimetype": "text/x-python",
   "name": "python",
   "nbconvert_exporter": "python",
   "pygments_lexer": "ipython3",
   "version": "3.10.0"
  }
 },
 "nbformat": 4,
 "nbformat_minor": 5
}
