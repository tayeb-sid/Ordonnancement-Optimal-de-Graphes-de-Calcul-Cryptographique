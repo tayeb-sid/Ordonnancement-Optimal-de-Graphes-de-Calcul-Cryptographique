{
 "cells": [
  {
   "cell_type": "code",
   "execution_count": 355,
   "id": "5734b1f4",
   "metadata": {},
   "outputs": [],
   "source": [
    "from tools import *\n",
    "import os\n",
    "import torch\n",
    "from torch_geometric.data import Data\n",
    "from torch_geometric.loader import DataLoader\n",
    "import torch.nn as nn\n",
    "import torch.nn.functional as F\n",
    "from torch_geometric.nn import GCNConv\n",
    "from tqdm import tqdm  \n",
    "import random"
   ]
  },
  {
   "cell_type": "code",
   "execution_count": 356,
   "id": "f1ab048b",
   "metadata": {},
   "outputs": [
    {
     "name": "stdout",
     "output_type": "stream",
     "text": [
      "finished data preparting & loading\n"
     ]
    }
   ],
   "source": [
    "path=\"graphes_JSON_Complet/Graphe(5012)_features.json\"\n",
    "\n",
    "node_features_df=extract_node_features_from_json_file(path)\n",
    "edges_df=extract_mapped_edges_from_json(path)\n",
    "target_df=extract_optimal_repartition_from_json(path)\n",
    "node_features_tensor, edge_index_tensor, y_target_tensor = prepare_data_for_GNN(node_features_df, edges_df, target_df)\n",
    "data = Data(x=node_features_tensor, edge_index=edge_index_tensor, y=y_target_tensor)\n",
    "\n",
    "\n",
    "\n",
    "print(\"finished data preparting & loading\")"
   ]
  },
  {
   "cell_type": "code",
   "execution_count": 357,
   "id": "29112e08",
   "metadata": {},
   "outputs": [
    {
     "data": {
      "text/plain": [
       "Data(x=[125, 8], edge_index=[2, 266], y=[125])"
      ]
     },
     "execution_count": 357,
     "metadata": {},
     "output_type": "execute_result"
    }
   ],
   "source": [
    "data"
   ]
  },
  {
   "cell_type": "code",
   "execution_count": 358,
   "id": "451ac96d",
   "metadata": {},
   "outputs": [],
   "source": [
    "num_nodes = data.num_nodes\n",
    "indices = list(range(num_nodes))\n",
    "random.shuffle(indices)\n"
   ]
  },
  {
   "cell_type": "code",
   "execution_count": 359,
   "id": "2afa3132",
   "metadata": {},
   "outputs": [],
   "source": [
    "train_ratio, val_ratio = 0.5, 0\n",
    "train_size = int(train_ratio * num_nodes)\n",
    "val_size = int(val_ratio * num_nodes)\n",
    "\n",
    "train_idx = torch.tensor(indices[:train_size])\n",
    "val_idx = torch.tensor(indices[train_size:train_size + val_size])\n",
    "test_idx = torch.tensor(indices[train_size + val_size:])\n",
    "\n"
   ]
  },
  {
   "cell_type": "code",
   "execution_count": 360,
   "id": "d24676de",
   "metadata": {},
   "outputs": [
    {
     "name": "stdout",
     "output_type": "stream",
     "text": [
      "62 63 0\n"
     ]
    }
   ],
   "source": [
    "print(len(train_idx),len(test_idx),len(val_idx))"
   ]
  },
  {
   "cell_type": "code",
   "execution_count": 361,
   "id": "1fb85383",
   "metadata": {},
   "outputs": [],
   "source": [
    "data.train_mask = torch.zeros(num_nodes, dtype=torch.bool)\n",
    "data.val_mask = torch.zeros(num_nodes, dtype=torch.bool)\n",
    "data.test_mask = torch.zeros(num_nodes, dtype=torch.bool)"
   ]
  },
  {
   "cell_type": "code",
   "execution_count": 362,
   "id": "e063fdf1",
   "metadata": {},
   "outputs": [],
   "source": [
    "data.train_mask[train_idx] = True\n",
    "# data.val_mask[val_idx] = True\n",
    "data.test_mask[test_idx] = True"
   ]
  },
  {
   "cell_type": "code",
   "execution_count": 363,
   "id": "ba190272",
   "metadata": {},
   "outputs": [],
   "source": [
    "num_features=8\n",
    "num_classes=int(data.x[0,7])\n",
    "hidden_channels=64"
   ]
  },
  {
   "cell_type": "code",
   "execution_count": 364,
   "id": "913b31fb",
   "metadata": {},
   "outputs": [
    {
     "name": "stdout",
     "output_type": "stream",
     "text": [
      "Epoch:   0 | Loss: 8.8864 | Train Acc: 0.0000 | Test Acc: 0.0000\n",
      "Epoch:  20 | Loss: 3.1909 | Train Acc: 0.1290 | Test Acc: 0.0317\n",
      "Epoch:  40 | Loss: 2.2768 | Train Acc: 0.2419 | Test Acc: 0.0476\n",
      "Epoch:  60 | Loss: 1.5912 | Train Acc: 0.5000 | Test Acc: 0.0317\n",
      "Epoch:  80 | Loss: 0.9610 | Train Acc: 0.7903 | Test Acc: 0.0476\n"
     ]
    }
   ],
   "source": [
    "from torch_geometric.nn.models import GCN, GAT,GraphSAGE\n",
    "\n",
    "model = GraphSAGE(in_channels=num_features, \n",
    "           hidden_channels=64,\n",
    "           num_layers=4,\n",
    "           out_channels=num_classes)\n",
    "\n",
    "optimizer = torch.optim.Adam(model.parameters(), lr=0.001)\n",
    "\n",
    "for epoch in range(100):\n",
    "    model.train()\n",
    "    optimizer.zero_grad()\n",
    "    out = model(data.x, data.edge_index)\n",
    "    loss = F.cross_entropy(out[data.train_mask], data.y[data.train_mask])\n",
    "    loss.backward()\n",
    "    optimizer.step()\n",
    "    \n",
    "    if epoch % 20 == 0:\n",
    "        pred = out.argmax(dim=1)\n",
    "        correct = (pred[data.train_mask] == data.y[data.train_mask]).sum()\n",
    "        acc = int(correct) / int(data.train_mask.sum())\n",
    "\n",
    "        model.eval()\n",
    "        with torch.no_grad():\n",
    "            test_out = model(data.x, data.edge_index)\n",
    "            test_pred = test_out.argmax(dim=1)\n",
    "            test_acc = (test_pred[data.test_mask] == data.y[data.test_mask]).float().mean()\n",
    "        \n",
    "        print(f'Epoch: {epoch:3d} | Loss: {loss:.4f} | Train Acc: {acc:.4f} | Test Acc: {test_acc:.4f}')"
   ]
  }
 ],
 "metadata": {
  "kernelspec": {
   "display_name": "Python 3",
   "language": "python",
   "name": "python3"
  },
  "language_info": {
   "codemirror_mode": {
    "name": "ipython",
    "version": 3
   },
   "file_extension": ".py",
   "mimetype": "text/x-python",
   "name": "python",
   "nbconvert_exporter": "python",
   "pygments_lexer": "ipython3",
   "version": "3.10.0"
  }
 },
 "nbformat": 4,
 "nbformat_minor": 5
}
