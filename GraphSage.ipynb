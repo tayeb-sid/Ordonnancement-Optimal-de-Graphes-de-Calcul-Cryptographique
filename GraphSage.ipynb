{
 "cells": [
  {
   "cell_type": "code",
   "execution_count": 79,
   "id": "75dbc6c5",
   "metadata": {},
   "outputs": [],
   "source": [
    "from tools import *\n",
    "import os\n",
    "import torch\n",
    "from torch_geometric.data import Data\n",
    "from torch_geometric.loader import DataLoader\n",
    "\n",
    "import torch.nn.functional as F\n",
    "from torch_geometric.nn import SAGEConv\n",
    "from tqdm import tqdm  "
   ]
  },
  {
   "cell_type": "code",
   "execution_count": 80,
   "id": "f79a3b9f",
   "metadata": {},
   "outputs": [
    {
     "name": "stdout",
     "output_type": "stream",
     "text": [
      "finished data preparting & loading\n"
     ]
    }
   ],
   "source": [
    "graph_json_dir = \"graphes_JSON_Complet\"  \n",
    "graph_json_files = [graph_json_dir+\"/\"+f for f in os.listdir(graph_json_dir) if f.endswith('.json')]\n",
    "\n",
    "all_graphs = []\n",
    "\n",
    "for path in graph_json_files:\n",
    "    node_features_df=extract_node_features_from_json_file(path)\n",
    "    edges_df=extract_mapped_edges_from_json(path)\n",
    "    target_df=extract_optimal_repartition_from_json(path)\n",
    "    node_features_tensor, edge_index_tensor, y_target_tensor = prepare_data_for_GNN(node_features_df, edges_df, target_df)\n",
    "    data = Data(x=node_features_tensor, edge_index=edge_index_tensor, y=y_target_tensor)\n",
    "\n",
    "    all_graphs.append(data)\n",
    "\n",
    "\n",
    "print(\"finished data preparting & loading\")"
   ]
  },
  {
   "cell_type": "code",
   "execution_count": 81,
   "id": "35b4200d",
   "metadata": {},
   "outputs": [
    {
     "name": "stdout",
     "output_type": "stream",
     "text": [
      "Selected 47/4998 graphs with  100  classes\n"
     ]
    }
   ],
   "source": [
    "N=100\n",
    "filtered_graphs = []\n",
    "graphe=all_graphs\n",
    "for graph in graphe:\n",
    "    num_classes = len(torch.unique(graph.y))  \n",
    "    \n",
    "    if graph.x[0][7] == N:\n",
    "        # selected_indices = [0, 1, 2, 6]\n",
    "        # graph.x = graph.x[:, selected_indices]\n",
    "        filtered_graphs.append(graph)\n",
    "        \n",
    "print(f\"Selected {len(filtered_graphs)}/{len(all_graphs)} graphs with \",N, \" classes\")"
   ]
  },
  {
   "cell_type": "code",
   "execution_count": 82,
   "id": "d6a4dedc",
   "metadata": {},
   "outputs": [
    {
     "data": {
      "text/plain": [
       "torch.Size([4, 8])"
      ]
     },
     "execution_count": 82,
     "metadata": {},
     "output_type": "execute_result"
    }
   ],
   "source": [
    "filtered_graphs[0].x.shape"
   ]
  },
  {
   "cell_type": "code",
   "execution_count": 83,
   "id": "12172f6c",
   "metadata": {},
   "outputs": [],
   "source": [
    "from torch.utils.data import random_split\n",
    "\n",
    "total_graphs = len(filtered_graphs)\n",
    "train_size = int(0.8 * total_graphs)\n",
    "val_size = int(0.1 * total_graphs)\n",
    "test_size = total_graphs - train_size - val_size\n",
    "\n",
    "train_data, val_data, test_data = random_split(filtered_graphs, [train_size, val_size, test_size])\n",
    "\n",
    "train_loader = DataLoader(train_data, batch_size=4, shuffle=True)\n",
    "val_loader = DataLoader(val_data, batch_size=8)\n",
    "test_loader = DataLoader(test_data, batch_size=4,shuffle=True)"
   ]
  },
  {
   "cell_type": "code",
   "execution_count": null,
   "id": "f83dadfd",
   "metadata": {},
   "outputs": [],
   "source": []
  },
  {
   "cell_type": "code",
   "execution_count": null,
   "id": "f1f0d360",
   "metadata": {},
   "outputs": [],
   "source": [
    "import torch\n",
    "import torch.nn.functional as F\n",
    "from torch_geometric.nn import SAGEConv\n",
    "\n",
    "class GraphSAGE(torch.nn.Module):\n",
    "    def __init__(self, num_features, hidden_dim=64,hidden_dim_2=64,hidden_dim_3=64,output_layer=N):\n",
    "        super().__init__()\n",
    "        self.conv1 = SAGEConv(num_features, hidden_dim)\n",
    "        self.conv2 = SAGEConv(hidden_dim, hidden_dim_2)\n",
    "        self.conv3 = SAGEConv(hidden_dim_2, hidden_dim_3)\n",
    "\n",
    "         \n",
    "        self.lin = torch.nn.Linear(hidden_dim_3, output_layer)\n",
    "\n",
    "    def forward(self, data):\n",
    "        x, edge_index = data.x, data.edge_index\n",
    "        x = torch.relu(self.conv1(x, edge_index))\n",
    "        # print(\"After conv1:\", x.shape)\n",
    "        x = torch.dropout(x, p=0.187, train=self.training)\n",
    "        x = torch.relu(self.conv2(x, edge_index))\n",
    "        # print(\"After conv2:\", x.shape)\n",
    "        x = torch.dropout(x, p=0.187, train=self.training)\n",
    "        x = torch.relu(self.conv3(x, edge_index))\n",
    "        # print(\"After conv3:\", x.shape)\n",
    "        x = self.lin(x)\n",
    "        # print(\"After linear:\", x.shape)\n",
    "        return x\n",
    "\n"
   ]
  },
  {
   "cell_type": "code",
   "execution_count": 85,
   "id": "66031a46",
   "metadata": {},
   "outputs": [],
   "source": [
    "device = torch.device('cpu')\n",
    "model = GraphSAGE(num_features=8).to(device)  \n",
    "optimizer = torch.optim.Adam(model.parameters(), lr=0.0002)\n"
   ]
  },
  {
   "cell_type": "code",
   "execution_count": null,
   "id": "84d1d66d",
   "metadata": {},
   "outputs": [
    {
     "name": "stdout",
     "output_type": "stream",
     "text": [
      "Epoch   1 | Loss: 3.5342 | Acc: 0.0031\n"
     ]
    }
   ],
   "source": [
    "for epoch in range(100 ):\n",
    "    model.train()\n",
    "    total_loss = 0\n",
    "    total_correct = 0\n",
    "    total_samples = 0\n",
    "\n",
    "    for data in train_loader:\n",
    "        data = data.to(device)\n",
    "        optimizer.zero_grad()\n",
    "        out = model(data)\n",
    "        targets = data.y.long()\n",
    "        loss = F.cross_entropy(out, targets)\n",
    "        loss.backward()\n",
    "        optimizer.step()\n",
    "        _, pred = out.max(dim=-1)\n",
    "        correct = (pred == targets).sum().item()\n",
    "        total_loss += loss.item()\n",
    "        total_correct += correct\n",
    "        total_samples += targets.size(0)\n",
    "\n",
    "    if (epoch % 10 == 0) or (epoch == 99):\n",
    "        epoch_loss = total_loss / len(train_data)\n",
    "        epoch_acc = total_correct / total_samples\n",
    "        print(f'Epoch {epoch+1:3d} | Loss: {epoch_loss:.4f} | Acc: {epoch_acc:.4f}')\n"
   ]
  },
  {
   "cell_type": "code",
   "execution_count": 87,
   "id": "f8bf24c4",
   "metadata": {},
   "outputs": [
    {
     "name": "stdout",
     "output_type": "stream",
     "text": [
      "\n",
      "Final Results:\n",
      "Train Accuracy: 0.0016\n",
      "Test Accuracy: 0.0000\n"
     ]
    }
   ],
   "source": [
    "# Test Phase\n",
    "def evaluate(model, loader):\n",
    "    model.eval()\n",
    "    total_correct = 0\n",
    "    total_samples = 0\n",
    "    \n",
    "    with torch.no_grad():\n",
    "        for data in loader:\n",
    "            data = data.to(device)\n",
    "            out = model(data)\n",
    "            pred = out.argmax(dim=1)\n",
    "            total_correct += (pred == data.y).sum().item()\n",
    "            total_samples += data.y.size(0)\n",
    "    \n",
    "    accuracy = total_correct / total_samples\n",
    "    return accuracy\n",
    "\n",
    "# Evaluate on all splits\n",
    "train_acc = evaluate(model, train_loader)\n",
    "# val_acc = evaluate(model, val_loader)\n",
    "test_acc = evaluate(model, test_loader)\n",
    "\n",
    "print('\\nFinal Results:')\n",
    "print(f'Train Accuracy: {train_acc:.4f}')\n",
    "# print(f'Val Accuracy: {val_acc:.4f}')\n",
    "print(f'Test Accuracy: {test_acc:.4f}')\n"
   ]
  },
  {
   "cell_type": "code",
   "execution_count": 88,
   "id": "56ab5163",
   "metadata": {},
   "outputs": [],
   "source": [
    "import optuna\n",
    "import torch\n",
    "import torch.nn.functional as F\n",
    "from torch_geometric.nn import SAGEConv\n",
    "\n",
    "# Define your model class\n",
    "class GraphSAGE(torch.nn.Module):\n",
    "    def __init__(self, num_features, hidden_dim, hidden_dim_2, hidden_dim_3, output_layer, dropout_rate):\n",
    "        super().__init__()\n",
    "        self.conv1 = SAGEConv(num_features, hidden_dim)\n",
    "        self.conv2 = SAGEConv(hidden_dim, hidden_dim_2)\n",
    "        self.conv3 = SAGEConv(hidden_dim_2, hidden_dim_3)\n",
    "        self.lin = torch.nn.Linear(hidden_dim_3, output_layer)\n",
    "        self.dropout_rate = dropout_rate\n",
    "\n",
    "    def forward(self, data):\n",
    "        x, edge_index = data.x, data.edge_index\n",
    "        x = torch.relu(self.conv1(x, edge_index))\n",
    "        x = F.dropout(x, p=self.dropout_rate, training=self.training)\n",
    "        x = torch.relu(self.conv2(x, edge_index))\n",
    "        x = F.dropout(x, p=self.dropout_rate, training=self.training)\n",
    "        x = torch.relu(self.conv3(x, edge_index))\n",
    "        x = self.lin(x)\n",
    "        return x\n"
   ]
  },
  {
   "cell_type": "code",
   "execution_count": 89,
   "id": "e8e0b5fd",
   "metadata": {},
   "outputs": [],
   "source": [
    "def objective(trial):\n",
    "    # Suggest hyperparameters\n",
    "    hidden_dim = trial.suggest_categorical(\"hidden_dim\", [16,8,32, 64, 128,256,512,1024])\n",
    "    hidden_dim_2 = trial.suggest_categorical(\"hidden_dim_2\", [16,8,32, 64, 128,256,512,1024])\n",
    "    hidden_dim_3 = trial.suggest_categorical(\"hidden_dim_3\", [16,8,32, 64, 128,256,512,1024])\n",
    "    dropout_rate = trial.suggest_float(\"dropout\", 0.1, 0.5)\n",
    "    lr = trial.suggest_loguniform(\"lr\", 1e-4, 1e-2)\n",
    "\n",
    "    device = torch.device(\"cpu\")\n",
    "    model = GraphSAGE(num_features=8, hidden_dim=hidden_dim, hidden_dim_2=hidden_dim_2,\n",
    "                      hidden_dim_3=hidden_dim_3, output_layer=N, dropout_rate=dropout_rate).to(device)\n",
    "    optimizer = torch.optim.Adam(model.parameters(), lr=lr)\n",
    "\n",
    "    for epoch in range(30):  # keep it short for Optuna\n",
    "        model.train()\n",
    "        for data in train_data:\n",
    "            data = data.to(device)\n",
    "            optimizer.zero_grad()\n",
    "            out = model(data)\n",
    "            loss = F.cross_entropy(out, data.y.long())\n",
    "            loss.backward()\n",
    "            optimizer.step()\n",
    "\n",
    "    # Evaluation\n",
    "    model.eval()\n",
    "    correct = 0\n",
    "    total = 0\n",
    "    with torch.no_grad():\n",
    "        for data in val_data:  # You need to define val_data separately\n",
    "            data = data.to(device)\n",
    "            out = model(data)\n",
    "            pred = out.argmax(dim=1)\n",
    "            correct += (pred == data.y).sum().item()\n",
    "            total += data.y.size(0)\n",
    "\n",
    "    accuracy = correct / total\n",
    "    return accuracy  # Optuna tries to maximize this\n"
   ]
  },
  {
   "cell_type": "code",
   "execution_count": 90,
   "id": "c0f534d3",
   "metadata": {},
   "outputs": [
    {
     "name": "stderr",
     "output_type": "stream",
     "text": [
      "[I 2025-05-09 21:35:28,903] A new study created in memory with name: no-name-a461319f-ecdb-4b01-8b31-870ce7913608\n",
      "C:\\Users\\User\\AppData\\Local\\Temp\\ipykernel_11296\\2555373646.py:7: FutureWarning: suggest_loguniform has been deprecated in v3.0.0. This feature will be removed in v6.0.0. See https://github.com/optuna/optuna/releases/tag/v3.0.0. Use suggest_float(..., log=True) instead.\n",
      "  lr = trial.suggest_loguniform(\"lr\", 1e-4, 1e-2)\n",
      "[I 2025-05-09 21:35:35,835] Trial 0 finished with value: 0.2631578947368421 and parameters: {'hidden_dim': 128, 'hidden_dim_2': 512, 'hidden_dim_3': 32, 'dropout': 0.11083227566728825, 'lr': 0.0014419126823819045}. Best is trial 0 with value: 0.2631578947368421.\n",
      "[I 2025-05-09 21:35:43,272] Trial 1 finished with value: 0.21052631578947367 and parameters: {'hidden_dim': 128, 'hidden_dim_2': 512, 'hidden_dim_3': 32, 'dropout': 0.3468501898329367, 'lr': 0.005122203232452111}. Best is trial 0 with value: 0.2631578947368421.\n",
      "[I 2025-05-09 21:35:53,025] Trial 2 finished with value: 0.3684210526315789 and parameters: {'hidden_dim': 1024, 'hidden_dim_2': 128, 'hidden_dim_3': 128, 'dropout': 0.24999509883109075, 'lr': 0.0003283161727937086}. Best is trial 2 with value: 0.3684210526315789.\n",
      "[I 2025-05-09 21:35:58,391] Trial 3 finished with value: 0.21052631578947367 and parameters: {'hidden_dim': 64, 'hidden_dim_2': 16, 'hidden_dim_3': 512, 'dropout': 0.2404604243552985, 'lr': 0.005095011059540619}. Best is trial 2 with value: 0.3684210526315789.\n",
      "[I 2025-05-09 21:36:02,847] Trial 4 finished with value: 0.2631578947368421 and parameters: {'hidden_dim': 16, 'hidden_dim_2': 16, 'hidden_dim_3': 16, 'dropout': 0.30941702969252105, 'lr': 0.0022680254524545846}. Best is trial 2 with value: 0.3684210526315789.\n",
      "[I 2025-05-09 21:36:08,596] Trial 5 finished with value: 0.15789473684210525 and parameters: {'hidden_dim': 32, 'hidden_dim_2': 32, 'hidden_dim_3': 64, 'dropout': 0.2720012581331761, 'lr': 0.00025855238416247505}. Best is trial 2 with value: 0.3684210526315789.\n",
      "[I 2025-05-09 21:36:14,583] Trial 6 finished with value: 0.05263157894736842 and parameters: {'hidden_dim': 32, 'hidden_dim_2': 8, 'hidden_dim_3': 32, 'dropout': 0.41760668362077225, 'lr': 0.00019687619211891956}. Best is trial 2 with value: 0.3684210526315789.\n",
      "[I 2025-05-09 21:36:20,688] Trial 7 finished with value: 0.3684210526315789 and parameters: {'hidden_dim': 128, 'hidden_dim_2': 128, 'hidden_dim_3': 8, 'dropout': 0.28797464792638994, 'lr': 0.00012117949986773209}. Best is trial 2 with value: 0.3684210526315789.\n",
      "[I 2025-05-09 21:36:26,590] Trial 8 finished with value: 0.21052631578947367 and parameters: {'hidden_dim': 8, 'hidden_dim_2': 16, 'hidden_dim_3': 64, 'dropout': 0.47755307835553373, 'lr': 0.0040007098905878525}. Best is trial 2 with value: 0.3684210526315789.\n",
      "[I 2025-05-09 21:36:34,043] Trial 9 finished with value: 0.21052631578947367 and parameters: {'hidden_dim': 512, 'hidden_dim_2': 16, 'hidden_dim_3': 64, 'dropout': 0.39684176294946605, 'lr': 0.0027413295547349366}. Best is trial 2 with value: 0.3684210526315789.\n",
      "[I 2025-05-09 21:36:45,667] Trial 10 finished with value: 0.2631578947368421 and parameters: {'hidden_dim': 1024, 'hidden_dim_2': 128, 'hidden_dim_3': 128, 'dropout': 0.1725779756113278, 'lr': 0.0005956259299258803}. Best is trial 2 with value: 0.3684210526315789.\n",
      "[I 2025-05-09 21:36:51,061] Trial 11 finished with value: 0.0 and parameters: {'hidden_dim': 256, 'hidden_dim_2': 128, 'hidden_dim_3': 8, 'dropout': 0.2166582288386412, 'lr': 0.00011043119241643871}. Best is trial 2 with value: 0.3684210526315789.\n",
      "[I 2025-05-09 21:37:02,119] Trial 12 finished with value: 0.21052631578947367 and parameters: {'hidden_dim': 1024, 'hidden_dim_2': 128, 'hidden_dim_3': 256, 'dropout': 0.19121186043159816, 'lr': 0.0005348948404995655}. Best is trial 2 with value: 0.3684210526315789.\n",
      "[I 2025-05-09 21:37:19,745] Trial 13 finished with value: 0.3684210526315789 and parameters: {'hidden_dim': 1024, 'hidden_dim_2': 256, 'hidden_dim_3': 1024, 'dropout': 0.321622066577132, 'lr': 0.00010945120642513323}. Best is trial 2 with value: 0.3684210526315789.\n",
      "[I 2025-05-09 21:37:24,339] Trial 14 finished with value: 0.3684210526315789 and parameters: {'hidden_dim': 128, 'hidden_dim_2': 64, 'hidden_dim_3': 8, 'dropout': 0.13367545194629027, 'lr': 0.00032649271925077277}. Best is trial 2 with value: 0.3684210526315789.\n",
      "[I 2025-05-09 21:37:33,353] Trial 15 finished with value: 0.21052631578947367 and parameters: {'hidden_dim': 16, 'hidden_dim_2': 1024, 'hidden_dim_3': 128, 'dropout': 0.2641003667566472, 'lr': 0.0006805821118622109}. Best is trial 2 with value: 0.3684210526315789.\n",
      "[I 2025-05-09 21:37:39,399] Trial 16 finished with value: 0.21052631578947367 and parameters: {'hidden_dim': 256, 'hidden_dim_2': 128, 'hidden_dim_3': 128, 'dropout': 0.3657431942913011, 'lr': 0.00018382741983498732}. Best is trial 2 with value: 0.3684210526315789.\n",
      "[I 2025-05-09 21:37:43,771] Trial 17 finished with value: 0.21052631578947367 and parameters: {'hidden_dim': 8, 'hidden_dim_2': 128, 'hidden_dim_3': 8, 'dropout': 0.2803415070452345, 'lr': 0.009563993399311}. Best is trial 2 with value: 0.3684210526315789.\n",
      "[I 2025-05-09 21:38:10,238] Trial 18 finished with value: 0.2631578947368421 and parameters: {'hidden_dim': 512, 'hidden_dim_2': 1024, 'hidden_dim_3': 256, 'dropout': 0.2192721963357186, 'lr': 0.0004094734900214634}. Best is trial 2 with value: 0.3684210526315789.\n",
      "[I 2025-05-09 21:38:15,185] Trial 19 finished with value: 0.2631578947368421 and parameters: {'hidden_dim': 64, 'hidden_dim_2': 256, 'hidden_dim_3': 16, 'dropout': 0.17323371765873102, 'lr': 0.001019166660524914}. Best is trial 2 with value: 0.3684210526315789.\n"
     ]
    },
    {
     "name": "stdout",
     "output_type": "stream",
     "text": [
      "Best trial:\n",
      "FrozenTrial(number=2, state=TrialState.COMPLETE, values=[0.3684210526315789], datetime_start=datetime.datetime(2025, 5, 9, 21, 35, 43, 274631), datetime_complete=datetime.datetime(2025, 5, 9, 21, 35, 53, 25051), params={'hidden_dim': 1024, 'hidden_dim_2': 128, 'hidden_dim_3': 128, 'dropout': 0.24999509883109075, 'lr': 0.0003283161727937086}, user_attrs={}, system_attrs={}, intermediate_values={}, distributions={'hidden_dim': CategoricalDistribution(choices=(16, 8, 32, 64, 128, 256, 512, 1024)), 'hidden_dim_2': CategoricalDistribution(choices=(16, 8, 32, 64, 128, 256, 512, 1024)), 'hidden_dim_3': CategoricalDistribution(choices=(16, 8, 32, 64, 128, 256, 512, 1024)), 'dropout': FloatDistribution(high=0.5, log=False, low=0.1, step=None), 'lr': FloatDistribution(high=0.01, log=True, low=0.0001, step=None)}, trial_id=2, value=None)\n"
     ]
    }
   ],
   "source": [
    "study = optuna.create_study(direction=\"maximize\")\n",
    "study.optimize(objective, n_trials=20)\n",
    "\n",
    "print(\"Best trial:\")\n",
    "print(study.best_trial)\n"
   ]
  },
  {
   "cell_type": "markdown",
   "id": "ffcbf645",
   "metadata": {},
   "source": [
    "FrozenTrial(number=14, state=TrialState.COMPLETE, values=[0.6075268817204301], datetime_start=datetime.datetime(2025, 5, 9, 18, 24, 9, 723515), datetime_complete=datetime.datetime(2025, 5, 9, 18, 24, 15, 886578), params={'hidden_dim': 128, 'hidden_dim_2': 64, 'hidden_dim_3': 64, 'dropout': 0.23191629633471522, 'lr': 0.0007840405583017338}, user_attrs={}, system_attrs={}, intermediate_values={}, distributions={'hidden_dim': CategoricalDistribution(choices=(32, 64, 128)), 'hidden_dim_2': CategoricalDistribution(choices=(32, 64, 128)), 'hidden_dim_3': CategoricalDistribution(choices=(32, 64, 128)), 'dropout': FloatDistribution(high=0.5, log=False, low=0.1, step=None), 'lr': FloatDistribution(high=0.01, log=True, low=0.0001, step=None)}, trial_id=14, value=None)"
   ]
  }
 ],
 "metadata": {
  "kernelspec": {
   "display_name": "Python 3",
   "language": "python",
   "name": "python3"
  },
  "language_info": {
   "codemirror_mode": {
    "name": "ipython",
    "version": 3
   },
   "file_extension": ".py",
   "mimetype": "text/x-python",
   "name": "python",
   "nbconvert_exporter": "python",
   "pygments_lexer": "ipython3",
   "version": "3.10.0"
  }
 },
 "nbformat": 4,
 "nbformat_minor": 5
}
