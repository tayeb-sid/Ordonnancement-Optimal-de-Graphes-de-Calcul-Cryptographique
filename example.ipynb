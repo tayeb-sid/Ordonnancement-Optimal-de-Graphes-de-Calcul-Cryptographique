{
 "cells": [
  {
   "cell_type": "code",
   "execution_count": 1,
   "metadata": {},
   "outputs": [],
   "source": [
    "from tools import *"
   ]
  },
  {
   "cell_type": "code",
   "execution_count": null,
   "metadata": {},
   "outputs": [],
   "source": [
    "clusters=\"dataset000/sol\"\n",
    "graph4=\"dataset000/blif/Graphe(4).txt\"\n",
    "test_file=\"test.txt\"\n",
    "testJSON_file=\"test.json\"\n",
    "\n",
    "graph4JSON=\"graphes_JSON/Graphe(4)_features.json\"\n",
    "edges= extract_mapped_edges_from_json(graph4JSON)\n",
    "feature_matrix_df = extract_node_features_from_json_file(graph4JSON)\n",
    "repartition=extract_optimal_repartition_from_json(graph4JSON)\n"
   ]
  },
  {
   "cell_type": "code",
   "execution_count": null,
   "metadata": {},
   "outputs": [],
   "source": [
    "edges"
   ]
  },
  {
   "cell_type": "code",
   "execution_count": null,
   "metadata": {},
   "outputs": [],
   "source": [
    "feature_matrix_df"
   ]
  },
  {
   "cell_type": "code",
   "execution_count": null,
   "metadata": {},
   "outputs": [],
   "source": [
    "repartition"
   ]
  }
 ],
 "metadata": {
  "kernelspec": {
   "display_name": "Python 3",
   "language": "python",
   "name": "python3"
  },
  "language_info": {
   "codemirror_mode": {
    "name": "ipython",
    "version": 3
   },
   "file_extension": ".py",
   "mimetype": "text/x-python",
   "name": "python",
   "nbconvert_exporter": "python",
   "pygments_lexer": "ipython3",
   "version": "3.10.0"
  }
 },
 "nbformat": 4,
 "nbformat_minor": 2
}
