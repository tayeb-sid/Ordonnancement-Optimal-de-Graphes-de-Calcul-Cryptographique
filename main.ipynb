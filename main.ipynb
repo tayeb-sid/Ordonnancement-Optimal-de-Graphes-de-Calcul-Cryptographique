{
 "cells": [
  {
   "cell_type": "code",
   "execution_count": 4,
   "metadata": {},
   "outputs": [],
   "source": [
    "from tools import *\n",
    "import os\n",
    "import torch\n",
    "from torch_geometric.data import Data\n",
    "from torch_geometric.loader import DataLoader"
   ]
  },
  {
   "cell_type": "markdown",
   "metadata": {},
   "source": [
    "Préparation et chargement des graphes pour l'entraînement du GNN."
   ]
  },
  {
   "cell_type": "code",
   "execution_count": null,
   "metadata": {},
   "outputs": [
    {
     "name": "stdout",
     "output_type": "stream",
     "text": [
      "Graph: graphes_JSON/Graphe(4)_features.json\n",
      "Number of possible CPUs (classes): 54\n",
      "Actual CPU values (classes) in this graph: [0, 1, 2, 3, 4, 5, 6, 7, 8, 9, 10, 11, 12, 13, 14, 15, 16, 17, 18, 19, 20, 21, 22, 23, 24, 25, 26, 27, 28, 29, 30, 31, 32, 33, 34, 35, 36, 39, 41, 42, 45, 46, 47, 48, 49, 50, 51, 52, 53, 55, 56, 57, 58, 62]\n"
     ]
    },
    {
     "ename": "IndexError",
     "evalue": "only integers, slices (`:`), ellipsis (`...`), numpy.newaxis (`None`) and integer or boolean arrays are valid indices",
     "output_type": "error",
     "traceback": [
      "\u001b[1;31m---------------------------------------------------------------------------\u001b[0m",
      "\u001b[1;31mIndexError\u001b[0m                                Traceback (most recent call last)",
      "Cell \u001b[1;32mIn[5], line 30\u001b[0m\n\u001b[0;32m     27\u001b[0m edges_df\u001b[38;5;241m=\u001b[39mextract_mapped_edges_from_json(path)\n\u001b[0;32m     28\u001b[0m target_df\u001b[38;5;241m=\u001b[39mextract_optimal_repartition_from_json(path)\n\u001b[1;32m---> 30\u001b[0m node_features_tensor, edge_index_tensor, y_target_tensor \u001b[38;5;241m=\u001b[39m \u001b[43mprepare_data_for_GNN\u001b[49m\u001b[43m(\u001b[49m\u001b[43mnode_features_df\u001b[49m\u001b[43m,\u001b[49m\u001b[43m \u001b[49m\u001b[43medges_df\u001b[49m\u001b[43m,\u001b[49m\u001b[43m \u001b[49m\u001b[43mtarget_df\u001b[49m\u001b[43m)\u001b[49m\n\u001b[0;32m     31\u001b[0m data \u001b[38;5;241m=\u001b[39m Data(x\u001b[38;5;241m=\u001b[39mnode_features_tensor, edge_index\u001b[38;5;241m=\u001b[39medge_index_tensor, y\u001b[38;5;241m=\u001b[39my_target_tensor)\n\u001b[0;32m     32\u001b[0m graphs\u001b[38;5;241m.\u001b[39mappend(data)\n",
      "Cell \u001b[1;32mIn[5], line 15\u001b[0m, in \u001b[0;36mprepare_data_for_GNN\u001b[1;34m(node_features_df, edges_df, target_df)\u001b[0m\n\u001b[0;32m     13\u001b[0m \u001b[38;5;28mprint\u001b[39m(\u001b[38;5;124mf\u001b[39m\u001b[38;5;124m\"\u001b[39m\u001b[38;5;124mNumber of possible CPUs (classes): \u001b[39m\u001b[38;5;132;01m{\u001b[39;00m\u001b[38;5;28mlen\u001b[39m(unique_cpus)\u001b[38;5;132;01m}\u001b[39;00m\u001b[38;5;124m\"\u001b[39m)\n\u001b[0;32m     14\u001b[0m \u001b[38;5;28mprint\u001b[39m(\u001b[38;5;124mf\u001b[39m\u001b[38;5;124m\"\u001b[39m\u001b[38;5;124mActual CPU values (classes) in this graph: \u001b[39m\u001b[38;5;132;01m{\u001b[39;00m\u001b[38;5;28msorted\u001b[39m(unique_cpus)\u001b[38;5;132;01m}\u001b[39;00m\u001b[38;5;124m\"\u001b[39m)\n\u001b[1;32m---> 15\u001b[0m \u001b[38;5;28mprint\u001b[39m(\u001b[38;5;124m\"\u001b[39m\u001b[38;5;124mtotal cpus\u001b[39m\u001b[38;5;124m\"\u001b[39m, \u001b[43mnode_features\u001b[49m\u001b[43m[\u001b[49m\u001b[38;5;124;43m\"\u001b[39;49m\u001b[38;5;124;43mn_cpus\u001b[39;49m\u001b[38;5;124;43m\"\u001b[39;49m\u001b[43m]\u001b[49m)\n\u001b[0;32m     16\u001b[0m edge_index \u001b[38;5;241m=\u001b[39m np\u001b[38;5;241m.\u001b[39marray([from_nodes, to_nodes], dtype\u001b[38;5;241m=\u001b[39mnp\u001b[38;5;241m.\u001b[39mint64)\n\u001b[0;32m     17\u001b[0m edge_index_tensor \u001b[38;5;241m=\u001b[39m torch\u001b[38;5;241m.\u001b[39mtensor(edge_index, dtype\u001b[38;5;241m=\u001b[39mtorch\u001b[38;5;241m.\u001b[39mlong)\n",
      "\u001b[1;31mIndexError\u001b[0m: only integers, slices (`:`), ellipsis (`...`), numpy.newaxis (`None`) and integer or boolean arrays are valid indices"
     ]
    }
   ],
   "source": [
    "def prepare_data_for_GNN(node_features_df, edges_df, target_df):\n",
    "    from_nodes = edges_df['from'].values\n",
    "    to_nodes = edges_df['to'].values\n",
    "\n",
    "    node_features = node_features_df.values\n",
    "    node_features_tensor = torch.tensor(node_features, dtype=torch.float32)\n",
    "\n",
    "    y_target = target_df['assigned_cpu'].values\n",
    "    y_target_tensor = torch.tensor(y_target, dtype=torch.float32)\n",
    "\n",
    "    unique_cpus = set(y_target)  # Get unique CPUs\n",
    "    print(f\"Graph: {path}\")\n",
    "    print(f\"Number of possible CPUs (classes): {len(unique_cpus)}\")\n",
    "    print(f\"Actual CPU values (classes) in this graph: {sorted(unique_cpus)}\")\n",
    "    edge_index = np.array([from_nodes, to_nodes], dtype=np.int64)\n",
    "    edge_index_tensor = torch.tensor(edge_index, dtype=torch.long)\n",
    "\n",
    "    return node_features_tensor, edge_index_tensor, y_target_tensor\n",
    "\n",
    "graph_json_dir = \"graphes_JSON\"  \n",
    "graph_json_files = [graph_json_dir+\"/\"+f for f in os.listdir(graph_json_dir) if f.endswith('.json')]\n",
    "graphs = []\n",
    "\n",
    "for path in graph_json_files:\n",
    "    node_features_df=extract_node_features_from_json_file(path)\n",
    "    edges_df=extract_mapped_edges_from_json(path)\n",
    "    target_df=extract_optimal_repartition_from_json(path)\n",
    "\n",
    "    node_features_tensor, edge_index_tensor, y_target_tensor = prepare_data_for_GNN(node_features_df, edges_df, target_df)\n",
    "    data = Data(x=node_features_tensor, edge_index=edge_index_tensor, y=y_target_tensor)\n",
    "    graphs.append(data)\n",
    "\n",
    "graph_loader = DataLoader(graphs, batch_size=4, shuffle=True)\n",
    "\n",
    "for batch in graph_loader:\n",
    "    node_features_batch = batch.x\n",
    "    edge_index_batch = batch.edge_index\n",
    "    target_batch = batch.y\n",
    "\n",
    "print(\"finished\")"
   ]
  },
  {
   "cell_type": "code",
   "execution_count": null,
   "metadata": {},
   "outputs": [],
   "source": []
  }
 ],
 "metadata": {
  "kernelspec": {
   "display_name": "Python 3",
   "language": "python",
   "name": "python3"
  },
  "language_info": {
   "codemirror_mode": {
    "name": "ipython",
    "version": 3
   },
   "file_extension": ".py",
   "mimetype": "text/x-python",
   "name": "python",
   "nbconvert_exporter": "python",
   "pygments_lexer": "ipython3",
   "version": "3.10.0"
  }
 },
 "nbformat": 4,
 "nbformat_minor": 2
}
