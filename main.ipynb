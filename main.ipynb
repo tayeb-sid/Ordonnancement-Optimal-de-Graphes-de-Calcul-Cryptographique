{
 "cells": [
  {
   "cell_type": "code",
   "execution_count": 1,
   "metadata": {},
   "outputs": [],
   "source": [
    "from tools import *\n",
    "import os\n",
    "import torch\n",
    "from torch_geometric.data import Data\n",
    "from torch_geometric.loader import DataLoader\n",
    "\n",
    "import torch.nn.functional as F\n",
    "from torch_geometric.nn import SAGEConv\n",
    "from tqdm import tqdm  \n",
    "from sklearn.preprocessing import StandardScaler,RobustScaler,MinMaxScaler\n",
    "\n"
   ]
  },
  {
   "cell_type": "markdown",
   "metadata": {},
   "source": [
    "Préparation et chargement des graphes pour l'entraînement du GNN."
   ]
  },
  {
   "cell_type": "code",
   "execution_count": 2,
   "metadata": {},
   "outputs": [
    {
     "name": "stdout",
     "output_type": "stream",
     "text": [
      "finished data preparting & loading\n"
     ]
    }
   ],
   "source": [
    "graph_json_dir = \"graphes_JSON_Complet\"  \n",
    "graph_json_files = [graph_json_dir+\"/\"+f for f in os.listdir(graph_json_dir) if f.endswith('.json')]\n",
    "\n",
    "all_graphs = []\n",
    "\n",
    "for path in graph_json_files:\n",
    "    node_features_df=extract_node_features_from_json_file(path)\n",
    "    edges_df=extract_mapped_edges_from_json(path)\n",
    "    target_df=extract_optimal_repartition_from_json(path)\n",
    "\n",
    "    node_features_tensor, edge_index_tensor, y_target_tensor = prepare_data_for_GNN(node_features_df, edges_df, target_df)\n",
    " \n",
    "    data = Data(x=node_features_tensor, edge_index=edge_index_tensor, y=y_target_tensor)\n",
    "\n",
    "    all_graphs.append(data)\n",
    "\n",
    "\n",
    "print(\"finished data preparting & loading\")"
   ]
  },
  {
   "cell_type": "code",
   "execution_count": 3,
   "metadata": {},
   "outputs": [
    {
     "data": {
      "text/plain": [
       "4998"
      ]
     },
     "execution_count": 3,
     "metadata": {},
     "output_type": "execute_result"
    }
   ],
   "source": [
    "len(all_graphs)\n"
   ]
  },
  {
   "cell_type": "markdown",
   "metadata": {},
   "source": [
    "separer les données en train validation & test"
   ]
  },
  {
   "cell_type": "code",
   "execution_count": 4,
   "metadata": {},
   "outputs": [
    {
     "name": "stdout",
     "output_type": "stream",
     "text": [
      "Train set size: 3998\n",
      "Validation set size: 499\n",
      "Test set size: 501\n"
     ]
    }
   ],
   "source": [
    "from torch.utils.data import random_split\n",
    "\n",
    "total_graphs = len(all_graphs)\n",
    "train_size = int(0.8 * total_graphs)\n",
    "val_size = int(0.1 * total_graphs)\n",
    "test_size = total_graphs - train_size - val_size\n",
    "\n",
    "train_data, val_data, test_data = random_split(all_graphs, [train_size, val_size, test_size])\n",
    "\n",
    "train_loader = DataLoader(train_data, batch_size=16, shuffle=True)\n",
    "val_loader = DataLoader(val_data, batch_size=8)\n",
    "test_loader = DataLoader(test_data, batch_size=8)\n",
    "\n",
    "print(f\"Train set size: {len(train_data)}\")\n",
    "print(f\"Validation set size: {len(val_data)}\")\n",
    "print(f\"Test set size: {len(test_data)}\")\n"
   ]
  },
  {
   "cell_type": "code",
   "execution_count": 23,
   "metadata": {},
   "outputs": [
    {
     "name": "stdout",
     "output_type": "stream",
     "text": [
      "torch.Size([124, 8]) torch.Size([124])\n"
     ]
    }
   ],
   "source": [
    "grapheIndex=3452\n",
    "print(all_graphs[grapheIndex].x.shape,all_graphs[grapheIndex].y.shape)"
   ]
  },
  {
   "cell_type": "markdown",
   "metadata": {},
   "source": [
    "Model training"
   ]
  },
  {
   "cell_type": "code",
   "execution_count": null,
   "metadata": {},
   "outputs": [
    {
     "ename": "SyntaxError",
     "evalue": "invalid decimal literal (1133516175.py, line 17)",
     "output_type": "error",
     "traceback": [
      "\u001b[1;36m  Cell \u001b[1;32mIn[23], line 17\u001b[1;36m\u001b[0m\n\u001b[1;33m    x = torch.dropout(1x, p=0.01, train=self.training)\u001b[0m\n\u001b[1;37m                      ^\u001b[0m\n\u001b[1;31mSyntaxError\u001b[0m\u001b[1;31m:\u001b[0m invalid decimal literal\n"
     ]
    }
   ],
   "source": [
    "import torch\n",
    "import torch.nn.functional as F\n",
    "from torch_geometric.nn import SAGEConv\n",
    "\n",
    "class GraphSAGE(torch.nn.Module):\n",
    "    def __init__(self, num_features, hidden_dim=64,hidden_dim_2=64,hidden_dim_3=100):\n",
    "        super().__init__()\n",
    "        self.conv1 = SAGEConv(num_features, hidden_dim)\n",
    "        self.conv2 = SAGEConv(hidden_dim, hidden_dim_2)\n",
    "        self.conv3 = SAGEConv(hidden_dim_2, hidden_dim_3) \n",
    "        self.lin = torch.nn.Linear(hidden_dim_3, hidden_dim_3)\n",
    "\n",
    "    def forward(self, data):\n",
    "        x, edge_index = data.x, data.edge_index\n",
    "        x = torch.relu(self.conv1(x, edge_index))\n",
    "        # print(\"After conv1:\", x.shape)\n",
    "        x = torch.dropout(x, p=0.01, train=self.training)\n",
    "        x = torch.relu(self.conv2(x, edge_index))\n",
    "        # print(\"After conv2:\", x.shape)\n",
    "        x = torch.dropout(x, p=0.01, train=self.training)\n",
    "        x = torch.relu(self.conv3(x, edge_index))\n",
    "        # print(\"After conv3:\", x.shape)\n",
    "        x = self.lin(x)\n",
    "        # print(\"After linear:\", x.shape)\n",
    "        return x\n",
    "\n"
   ]
  },
  {
   "cell_type": "code",
   "execution_count": null,
   "metadata": {},
   "outputs": [],
   "source": [
    "device = torch.device('cpu')\n",
    "model = GraphSAGE(num_features=8).to(device)  \n",
    "optimizer = torch.optim.Adam(model.parameters(), lr=0.002)\n"
   ]
  },
  {
   "cell_type": "code",
   "execution_count": null,
   "metadata": {},
   "outputs": [
    {
     "name": "stdout",
     "output_type": "stream",
     "text": [
      "Epoch 001 | Loss: 3.9886 | Acc: 0.0762\n",
      "Epoch 011 | Loss: 3.4719 | Acc: 0.0905\n",
      "Epoch 021 | Loss: 3.4341 | Acc: 0.0909\n",
      "Epoch 031 | Loss: 3.4374 | Acc: 0.0918\n",
      "Epoch 041 | Loss: 3.4100 | Acc: 0.0915\n",
      "Epoch 051 | Loss: 3.4220 | Acc: 0.0932\n",
      "Epoch 061 | Loss: 3.4020 | Acc: 0.0925\n",
      "Epoch 071 | Loss: 3.4185 | Acc: 0.0928\n",
      "Epoch 081 | Loss: 3.3872 | Acc: 0.0915\n",
      "Epoch 091 | Loss: 3.4074 | Acc: 0.0924\n",
      "Epoch 100 | Loss: 3.4030 | Acc: 0.0923\n"
     ]
    }
   ],
   "source": [
    "for epoch in range(100):\n",
    "    model.train()\n",
    "    total_loss = 0\n",
    "    total_correct = 0\n",
    "    total_samples = 0\n",
    "\n",
    "    for data in train_data:\n",
    "        data = data.to(device)\n",
    "        optimizer.zero_grad()\n",
    "        out = model(data)\n",
    "        targets = data.y.long()\n",
    "        loss = F.cross_entropy(out, targets)\n",
    "        loss.backward()\n",
    "        optimizer.step()\n",
    "\n",
    "        _, pred = out.max(dim=1)\n",
    "        correct = (pred == targets).sum().item()\n",
    "\n",
    "        total_loss += loss.item()\n",
    "        total_correct += correct\n",
    "        total_samples += targets.size(0)\n",
    "\n",
    "    if (epoch % 10 == 0) or (epoch == 99):\n",
    "        epoch_loss = total_loss / len(train_data)\n",
    "        epoch_acc = total_correct / total_samples\n",
    "        print(f'Epoch {epoch+1:3d} | Loss: {epoch_loss:.4f} | Acc: {epoch_acc:.4f}')\n"
   ]
  }
 ],
 "metadata": {
  "kernelspec": {
   "display_name": "Python 3",
   "language": "python",
   "name": "python3"
  },
  "language_info": {
   "codemirror_mode": {
    "name": "ipython",
    "version": 3
   },
   "file_extension": ".py",
   "mimetype": "text/x-python",
   "name": "python",
   "nbconvert_exporter": "python",
   "pygments_lexer": "ipython3",
   "version": "3.10.0"
  }
 },
 "nbformat": 4,
 "nbformat_minor": 2
}
