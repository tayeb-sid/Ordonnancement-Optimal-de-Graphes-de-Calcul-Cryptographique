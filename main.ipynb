{
 "cells": [
  {
   "cell_type": "code",
   "execution_count": 39,
   "metadata": {},
   "outputs": [],
   "source": [
    "from tools import *\n",
    "import os\n",
    "import torch\n",
    "from torch_geometric.data import Data\n",
    "from torch_geometric.loader import DataLoader\n",
    "\n",
    "import torch.nn.functional as F\n",
    "from torch_geometric.nn import SAGEConv\n",
    "from tqdm import tqdm  "
   ]
  },
  {
   "cell_type": "markdown",
   "metadata": {},
   "source": [
    "Préparation et chargement des graphes pour l'entraînement du GNN."
   ]
  },
  {
   "cell_type": "code",
   "execution_count": 40,
   "metadata": {},
   "outputs": [
    {
     "name": "stdout",
     "output_type": "stream",
     "text": [
      "finished data preparting & loading\n"
     ]
    }
   ],
   "source": [
    "graph_json_dir = \"graphes_JSON\"  \n",
    "graph_json_files = [graph_json_dir+\"/\"+f for f in os.listdir(graph_json_dir) if f.endswith('.json')]\n",
    "\n",
    "all_graphs = []\n",
    "\n",
    "for path in graph_json_files:\n",
    "    node_features_df=extract_node_features_from_json_file(path)\n",
    "    edges_df=extract_mapped_edges_from_json(path)\n",
    "    target_df=extract_optimal_repartition_from_json(path)\n",
    "\n",
    "    node_features_tensor, edge_index_tensor, y_target_tensor = prepare_data_for_GNN(node_features_df, edges_df, target_df)\n",
    "    data = Data(x=node_features_tensor, edge_index=edge_index_tensor, y=y_target_tensor)\n",
    "\n",
    "    all_graphs.append(data)\n",
    "\n",
    "# graph_loader = DataLoader(graphs, batch_size=4, shuffle=True)\n",
    "\n",
    "# for batch in graph_loader:\n",
    "#     node_features_batch = batch.x\n",
    "#     edge_index_batch = batch.edge_index\n",
    "#     target_batch = batch.y\n",
    "\n",
    "print(\"finished data preparting & loading\")"
   ]
  },
  {
   "cell_type": "code",
   "execution_count": 41,
   "metadata": {},
   "outputs": [
    {
     "name": "stdout",
     "output_type": "stream",
     "text": [
      "Number of nodes: 135\n",
      "Node features: torch.Size([135, 8])\n",
      "Edges: torch.Size([2, 147]) (2, num_edges)\n",
      "Targets: torch.Size([135]) (CPU assignments)\n"
     ]
    }
   ],
   "source": [
    "sample = all_graphs[0]\n",
    "print(f\"Number of nodes: {sample.num_nodes}\")\n",
    "print(f\"Node features: {sample.x.shape}\")\n",
    "print(f\"Edges: {sample.edge_index.shape} (2, num_edges)\")\n",
    "print(f\"Targets: {sample.y.shape} (CPU assignments)\")"
   ]
  },
  {
   "cell_type": "markdown",
   "metadata": {},
   "source": [
    "separer les données en train validation & test"
   ]
  },
  {
   "cell_type": "code",
   "execution_count": 42,
   "metadata": {},
   "outputs": [],
   "source": [
    "train_data = all_graphs[:80]\n",
    "val_data = all_graphs[80:90]\n",
    "test_data = all_graphs[90:]\n",
    "\n",
    "train_loader = DataLoader(train_data, batch_size=8, shuffle=True)\n",
    "val_loader = DataLoader(val_data, batch_size=8)\n",
    "test_loader = DataLoader(test_data, batch_size=8)"
   ]
  },
  {
   "cell_type": "code",
   "execution_count": null,
   "metadata": {},
   "outputs": [],
   "source": [
    "print(f'train: {len(train_data)} validation: {len(val_data)} test: {len(test_data)}')"
   ]
  },
  {
   "cell_type": "markdown",
   "metadata": {},
   "source": [
    "Model training"
   ]
  },
  {
   "cell_type": "code",
   "execution_count": null,
   "metadata": {},
   "outputs": [],
   "source": []
  },
  {
   "cell_type": "code",
   "execution_count": null,
   "metadata": {},
   "outputs": [],
   "source": []
  }
 ],
 "metadata": {
  "kernelspec": {
   "display_name": "Python 3",
   "language": "python",
   "name": "python3"
  },
  "language_info": {
   "codemirror_mode": {
    "name": "ipython",
    "version": 3
   },
   "file_extension": ".py",
   "mimetype": "text/x-python",
   "name": "python",
   "nbconvert_exporter": "python",
   "pygments_lexer": "ipython3",
   "version": "3.10.0"
  }
 },
 "nbformat": 4,
 "nbformat_minor": 2
}
