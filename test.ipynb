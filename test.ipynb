{
 "cells": [
  {
   "cell_type": "code",
   "execution_count": 28,
   "id": "7437e56b",
   "metadata": {},
   "outputs": [
    {
     "name": "stdout",
     "output_type": "stream",
     "text": [
      "n_cpu values and counts:\n",
      "2: 56\n",
      "3: 55\n",
      "4: 46\n",
      "5: 51\n",
      "6: 52\n",
      "7: 46\n",
      "8: 59\n",
      "9: 56\n",
      "10: 55\n",
      "11: 59\n",
      "12: 48\n",
      "13: 47\n",
      "14: 32\n",
      "15: 53\n",
      "16: 62\n",
      "17: 55\n",
      "18: 56\n",
      "19: 47\n",
      "20: 59\n",
      "21: 38\n",
      "22: 37\n",
      "23: 43\n",
      "24: 47\n",
      "25: 45\n",
      "26: 50\n",
      "27: 53\n",
      "28: 61\n",
      "29: 60\n",
      "30: 38\n",
      "31: 45\n",
      "32: 53\n",
      "33: 52\n",
      "34: 47\n",
      "35: 34\n",
      "36: 45\n",
      "37: 56\n",
      "38: 59\n",
      "39: 43\n",
      "40: 39\n",
      "41: 54\n",
      "42: 41\n",
      "43: 48\n",
      "44: 62\n",
      "45: 43\n",
      "46: 52\n",
      "47: 48\n",
      "48: 40\n",
      "49: 54\n",
      "50: 65\n",
      "51: 45\n",
      "52: 58\n",
      "53: 44\n",
      "54: 53\n",
      "55: 57\n",
      "56: 43\n",
      "57: 42\n",
      "58: 55\n",
      "59: 37\n",
      "60: 44\n",
      "61: 41\n",
      "62: 55\n",
      "63: 58\n",
      "64: 50\n",
      "65: 57\n",
      "66: 60\n",
      "67: 49\n",
      "68: 52\n",
      "69: 51\n",
      "70: 55\n",
      "71: 53\n",
      "72: 56\n",
      "73: 48\n",
      "74: 40\n",
      "75: 53\n",
      "76: 49\n",
      "77: 59\n",
      "78: 49\n",
      "79: 57\n",
      "80: 45\n",
      "81: 35\n",
      "82: 57\n",
      "83: 48\n",
      "84: 45\n",
      "85: 46\n",
      "86: 50\n",
      "87: 54\n",
      "88: 50\n",
      "89: 55\n",
      "90: 59\n",
      "91: 54\n",
      "92: 55\n",
      "93: 56\n",
      "94: 53\n",
      "95: 56\n",
      "96: 57\n",
      "97: 54\n",
      "98: 60\n",
      "99: 46\n",
      "100: 47\n"
     ]
    }
   ],
   "source": [
    "import os\n",
    "import json\n",
    "from collections import Counter\n",
    "\n",
    "json_dir = \"graphes_JSON_Complet\"\n",
    "n_cpu_count = Counter()\n",
    "\n",
    "for filename in os.listdir(json_dir):\n",
    "    if filename.endswith(\".json\"):\n",
    "        with open(os.path.join(json_dir, filename), \"r\") as f:\n",
    "            data = json.load(f)\n",
    "        \n",
    "        # Get first node's n_cpu value\n",
    "        first_node = next(iter(data[list(data.keys())[0]][\"node_features\"].values()))\n",
    "        n_cpu = first_node[\"n_cpus\"]\n",
    "        n_cpu_count[n_cpu] += 1\n",
    "\n",
    "print(\"n_cpu values and counts:\")\n",
    "for n_cpu, count in sorted(n_cpu_count.items()):\n",
    "    print(f\"{n_cpu}: {count}\")"
   ]
  },
  {
   "cell_type": "code",
   "execution_count": 29,
   "id": "b7d74ed2",
   "metadata": {},
   "outputs": [
    {
     "name": "stdout",
     "output_type": "stream",
     "text": [
      "tensor([0.7722, 0.0000, 0.2278])\n"
     ]
    }
   ],
   "source": [
    "import torch\n",
    "import torch.nn.functional as F\n",
    "\n",
    "x = torch.tensor([0.020, -float('inf'), -1.201])\n",
    "softmax_x = F.softmax(x, dim=-1)\n",
    "print(softmax_x)\n"
   ]
  },
  {
   "cell_type": "code",
   "execution_count": null,
   "id": "02640d09",
   "metadata": {},
   "outputs": [
    {
     "name": "stdout",
     "output_type": "stream",
     "text": [
      "tensor([0.7722, 0.0000, 0.2278])\n",
      "tensor(0.7722)\n",
      "max :  tensor([0])  target:  tensor(1)\n",
      "tensor([0.2036, 0.1842, 0.6122])\n",
      "tensor(0.6122)\n",
      "max :  tensor([2])  target:  tensor(2)\n",
      "tensor([0.0171, 0.0466, 0.9362])\n",
      "tensor(0.9362)\n",
      "max :  tensor([2])  target:  tensor(2)\n",
      "0.6666666666666666\n"
     ]
    }
   ],
   "source": [
    "import torch\n",
    "import torch.nn.functional as F\n",
    "\n",
    "def cost(logits, target):\n",
    "    probs = F.softmax(logits, dim=-1)\n",
    "    max_prob= max(probs)\n",
    "    index=torch.where(probs==max_prob)[0]\n",
    "    if(index==target):\n",
    "        return 1\n",
    "    return 0\n",
    "    \n",
    "\n",
    "logits = torch.tensor([[0.020, -float('inf'), -1.201],\n",
    "                      [0.1, 0, 1.201],\n",
    "                      [2, 3, 6]])\n",
    "targets=torch.tensor([1,2,2])\n",
    "\n",
    "cpt=0\n",
    "for logit,target in zip(logits,targets):\n",
    "    cpt+=cost(logit,target)\n",
    "    \n",
    "print(cpt/len(targets))"
   ]
  },
  {
   "cell_type": "code",
   "execution_count": 49,
   "id": "de04e129",
   "metadata": {},
   "outputs": [],
   "source": [
    "import torch\n",
    "import torch.nn.functional as F\n",
    "\n",
    "def compute_accuracy(logits, targets):\n",
    "    correct = 0\n",
    "    for logit, target in zip(logits, targets):\n",
    "        probs = F.softmax(logit, dim=-1)\n",
    "        pred = torch.argmax(probs).item()\n",
    "        if pred == target.item():\n",
    "            correct += 1\n",
    "    return correct / len(targets)\n"
   ]
  },
  {
   "cell_type": "code",
   "execution_count": 51,
   "id": "b6681af5",
   "metadata": {},
   "outputs": [
    {
     "name": "stdout",
     "output_type": "stream",
     "text": [
      "Accuracy: 0.3333333333333333\n"
     ]
    }
   ],
   "source": [
    "logits = torch.tensor([[0.020, -float('inf'), -1.201],\n",
    "                       [0.1, 0, 1.201],\n",
    "                       [2, 3, 6]])\n",
    "targets = torch.tensor([0, 0, 0])\n",
    "\n",
    "accuracy = compute_accuracy(logits, targets)\n",
    "print(\"Accuracy:\", accuracy)\n"
   ]
  }
 ],
 "metadata": {
  "kernelspec": {
   "display_name": "Python 3",
   "language": "python",
   "name": "python3"
  },
  "language_info": {
   "codemirror_mode": {
    "name": "ipython",
    "version": 3
   },
   "file_extension": ".py",
   "mimetype": "text/x-python",
   "name": "python",
   "nbconvert_exporter": "python",
   "pygments_lexer": "ipython3",
   "version": "3.10.0"
  }
 },
 "nbformat": 4,
 "nbformat_minor": 5
}
